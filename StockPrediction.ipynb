{
 "cells": [
  {
   "cell_type": "code",
   "execution_count": 2,
   "id": "b19d5105",
   "metadata": {},
   "outputs": [
    {
     "name": "stdout",
     "output_type": "stream",
     "text": [
      "Collecting ufinance\n",
      "  Downloading ufinance-0.0.1.tar.gz (2.0 kB)\n",
      "  Preparing metadata (setup.py): started\n",
      "  Preparing metadata (setup.py): finished with status 'done'\n",
      "Collecting pandas\n",
      "  Downloading pandas-1.4.0-cp310-cp310-win_amd64.whl (10.6 MB)\n",
      "Requirement already satisfied: pytz>=2020.1 in c:\\users\\xuk65\\appdata\\local\\programs\\python\\python310\\lib\\site-packages (from pandas->ufinance) (2021.3)\n",
      "Requirement already satisfied: numpy>=1.21.0 in c:\\users\\xuk65\\appdata\\local\\programs\\python\\python310\\lib\\site-packages (from pandas->ufinance) (1.22.1)\n",
      "Requirement already satisfied: python-dateutil>=2.8.1 in c:\\users\\xuk65\\appdata\\local\\programs\\python\\python310\\lib\\site-packages (from pandas->ufinance) (2.8.2)\n",
      "Requirement already satisfied: six>=1.5 in c:\\users\\xuk65\\appdata\\local\\programs\\python\\python310\\lib\\site-packages (from python-dateutil>=2.8.1->pandas->ufinance) (1.16.0)\n",
      "Using legacy 'setup.py install' for ufinance, since package 'wheel' is not installed.\n",
      "Installing collected packages: pandas, ufinance\n",
      "    Running setup.py install for ufinance: started\n",
      "    Running setup.py install for ufinance: finished with status 'done'\n",
      "Successfully installed pandas-1.4.0 ufinance-0.0.1\n"
     ]
    },
    {
     "ename": "ModuleNotFoundError",
     "evalue": "No module named 'yfinance'",
     "output_type": "error",
     "traceback": [
      "\u001b[1;31m---------------------------------------------------------------------------\u001b[0m",
      "\u001b[1;31mModuleNotFoundError\u001b[0m                       Traceback (most recent call last)",
      "Input \u001b[1;32mIn [2]\u001b[0m, in \u001b[0;36m<module>\u001b[1;34m\u001b[0m\n\u001b[0;32m      1\u001b[0m get_ipython()\u001b[38;5;241m.\u001b[39msystem(\u001b[38;5;124m'\u001b[39m\u001b[38;5;124mpip install ufinance\u001b[39m\u001b[38;5;124m'\u001b[39m)\n\u001b[1;32m----> 2\u001b[0m \u001b[38;5;28;01mimport\u001b[39;00m \u001b[38;5;21;01myfinance\u001b[39;00m \u001b[38;5;28;01mas\u001b[39;00m \u001b[38;5;21;01myf\u001b[39;00m\n\u001b[0;32m      4\u001b[0m aapl \u001b[38;5;241m=\u001b[39m Ticker(\u001b[38;5;124m\"\u001b[39m\u001b[38;5;124mAAPl\u001b[39m\u001b[38;5;124m\"\u001b[39m)\n\u001b[0;32m      5\u001b[0m aapl \u001b[38;5;241m=\u001b[39m aapl\u001b[38;5;241m.\u001b[39mhistory(period \u001b[38;5;241m=\u001b[39m \u001b[38;5;124m\"\u001b[39m\u001b[38;5;124mmax\u001b[39m\u001b[38;5;124m\"\u001b[39m)\n",
      "\u001b[1;31mModuleNotFoundError\u001b[0m: No module named 'yfinance'"
     ]
    }
   ],
   "source": [
    "!pip install ufinance\n",
    "import yfinance as yf\n",
    "\n",
    "aapl = Ticker(\"AAPl\")\n",
    "aapl = aapl.history(period = \"max\")"
   ]
  },
  {
   "cell_type": "code",
   "execution_count": null,
   "id": "5bbcb020",
   "metadata": {},
   "outputs": [],
   "source": []
  },
  {
   "cell_type": "code",
   "execution_count": null,
   "id": "56af5f72",
   "metadata": {},
   "outputs": [],
   "source": []
  }
 ],
 "metadata": {
  "kernelspec": {
   "display_name": "Python 3 (ipykernel)",
   "language": "python",
   "name": "python3"
  },
  "language_info": {
   "codemirror_mode": {
    "name": "ipython",
    "version": 3
   },
   "file_extension": ".py",
   "mimetype": "text/x-python",
   "name": "python",
   "nbconvert_exporter": "python",
   "pygments_lexer": "ipython3",
   "version": "3.10.2"
  }
 },
 "nbformat": 4,
 "nbformat_minor": 5
}
